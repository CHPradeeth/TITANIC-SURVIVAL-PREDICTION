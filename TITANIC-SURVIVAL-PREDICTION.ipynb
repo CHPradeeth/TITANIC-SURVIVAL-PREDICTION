{
 "cells": [
  {
   "cell_type": "code",
   "execution_count": 6,
   "metadata": {},
   "outputs": [],
   "source": [
    "import pandas as TSP\n",
    "from sklearn.model_selection import train_test_split\n",
    "from sklearn.ensemble import RandomForestClassifier\n",
    "from sklearn.metrics import accuracy_score"
   ]
  },
  {
   "cell_type": "code",
   "execution_count": 7,
   "metadata": {},
   "outputs": [],
   "source": [
    "# Load the dataset\n",
    "tspsheet = TSP.read_csv(\"C:\\\\Users\\\\Pradeeth\\\\OneDrive\\\\Desktop\\\\CodsoftDS\\\\Titanic-Dataset.csv\")"
   ]
  },
  {
   "cell_type": "code",
   "execution_count": 8,
   "metadata": {},
   "outputs": [],
   "source": [
    "# Data preprocessing\n",
    "tspsheet.dropna(subset=['Age', 'Sex', 'Pclass'], inplace=True)\n",
    "tspsheet['Sex'] = tspsheet['Sex'].map({'male': 0, 'female': 1})"
   ]
  },
  {
   "cell_type": "code",
   "execution_count": 9,
   "metadata": {},
   "outputs": [],
   "source": [
    "# Select features and target variable\n",
    "A = tspsheet[['Pclass', 'Sex', 'Age']]\n",
    "B = tspsheet['Survived']"
   ]
  },
  {
   "cell_type": "code",
   "execution_count": 10,
   "metadata": {},
   "outputs": [],
   "source": [
    "# Split data into train and test sets\n",
    "A_train, A_test, B_train, B_test = train_test_split(A, B, test_size=0.2, random_state=42)"
   ]
  },
  {
   "cell_type": "code",
   "execution_count": 11,
   "metadata": {},
   "outputs": [],
   "source": [
    "# Train Random Forest Classifier\n",
    "X = RandomForestClassifier(n_estimators=100, random_state=42)\n",
    "X.fit(A_train, B_train)# Predict on the test set\n",
    "C_pred = X.predict(A_test)"
   ]
  },
  {
   "cell_type": "code",
   "execution_count": 12,
   "metadata": {},
   "outputs": [
    {
     "name": "stdout",
     "output_type": "stream",
     "text": [
      "Accuracy: 0.7552447552447552\n"
     ]
    }
   ],
   "source": [
    "# Evaluate accuracy\n",
    "acurcy = accuracy_score(B_test, C_pred)\n",
    "print(\"Accuracy:\", acurcy)"
   ]
  },
  {
   "cell_type": "code",
   "execution_count": 13,
   "metadata": {},
   "outputs": [
    {
     "name": "stdout",
     "output_type": "stream",
     "text": [
      "Survived\n"
     ]
    }
   ],
   "source": [
    "# Example prediction    ---> '1' indicates-Female and '0' indicates-Male\n",
    "def survival_prediction(pclass, sex, age):\n",
    "    input_data = TSP.DataFrame({'Pclass': [pclass], 'Sex': [sex], 'Age': [age]})\n",
    "    forecast = X.predict(input_data)[0]\n",
    "    if forecast == 1:\n",
    "        return \"Survived\"\n",
    "    else:\n",
    "        return \"The one you're looking did not survive\"\n",
    "print(survival_prediction(1, 1, 16))"
   ]
  }
 ],
 "metadata": {
  "kernelspec": {
   "display_name": "Python 3",
   "language": "python",
   "name": "python3"
  },
  "language_info": {
   "codemirror_mode": {
    "name": "ipython",
    "version": 3
   },
   "file_extension": ".py",
   "mimetype": "text/x-python",
   "name": "python",
   "nbconvert_exporter": "python",
   "pygments_lexer": "ipython3",
   "version": "3.12.1"
  }
 },
 "nbformat": 4,
 "nbformat_minor": 2
}
